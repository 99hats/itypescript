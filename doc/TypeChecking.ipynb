{
 "cells": [
  {
   "cell_type": "markdown",
   "metadata": {},
   "source": [
    "# Type Checking\n",
    "\n",
    "`ITypescript` does type checking, which is helped by `typescript-simple` package. `ITypescript` automatically figure out possible `tsconfig.json` file and apply it. Whenever the json does not exists, `ITypescript` uses basic `tsconfig.json`:\n",
    "```\n",
    "{\n",
    "    \"compilerOptions\": {\n",
    "        \"module\": \"commonjs\",\n",
    "        \"moduleResolution\": \"node\",\n",
    "        \"target\": \"es5\"\n",
    "    }\n",
    "}\n",
    "```"
   ]
  },
  {
   "cell_type": "code",
   "execution_count": 1,
   "metadata": {
    "collapsed": false
   },
   "outputs": [
    {
     "data": {
      "text/plain": [
       "undefined"
      ]
     },
     "execution_count": 1,
     "metadata": {},
     "output_type": "execute_result"
    }
   ],
   "source": [
    "let x: number = 4;"
   ]
  },
  {
   "cell_type": "code",
   "execution_count": 2,
   "metadata": {
    "collapsed": false
   },
   "outputs": [
    {
     "ename": "Error",
     "evalue": "\tLine 1: Type '8' is not assignable to type 'string'.",
     "output_type": "error",
     "traceback": [
      "[COMPILE ERROR]",
      "\tLine 1: Type '8' is not assignable to type 'string'."
     ]
    }
   ],
   "source": [
    "let y: string = 8;"
   ]
  },
  {
   "cell_type": "code",
   "execution_count": 3,
   "metadata": {
    "collapsed": false
   },
   "outputs": [
    {
     "ename": "Error",
     "evalue": "\tLine 1: Type '\"7\"' is not assignable to type 'number'.",
     "output_type": "error",
     "traceback": [
      "[COMPILE ERROR]",
      "\tLine 1: Type '\"7\"' is not assignable to type 'number'."
     ]
    }
   ],
   "source": [
    "let z: number = \"7\";"
   ]
  },
  {
   "cell_type": "markdown",
   "metadata": {
    "collapsed": true
   },
   "source": [
    "## NOTE\n",
    "Because of current issue in `typescript-simple`, semantic checking and module import cannot co-exist. Therefore, the type checking is enabled only when you provided the `--ts-semantic-chk=on` option in the command line arguments of `its`. The following is the error when you using both semantic type checking and module import."
   ]
  },
  {
   "cell_type": "code",
   "execution_count": 4,
   "metadata": {
    "collapsed": false
   },
   "outputs": [
    {
     "ename": "Error",
     "evalue": "\tLine 1: Cannot find module 'fs'.",
     "output_type": "error",
     "traceback": [
      "[COMPILE ERROR]",
      "\tLine 1: Cannot find module 'fs'."
     ]
    }
   ],
   "source": [
    "import * as fs from 'fs';"
   ]
  },
  {
   "cell_type": "code",
   "execution_count": null,
   "metadata": {
    "collapsed": true
   },
   "outputs": [],
   "source": []
  }
 ],
 "metadata": {
  "kernelspec": {
   "display_name": "Typescript 2.4",
   "language": "typescript",
   "name": "typescript"
  },
  "language_info": {
   "file_extension": ".ts",
   "mimetype": "text/x-typescript",
   "name": "typescript",
   "version": "2.4.2"
  }
 },
 "nbformat": 4,
 "nbformat_minor": 0
}
