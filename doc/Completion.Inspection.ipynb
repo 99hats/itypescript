{
 "cells": [
  {
   "cell_type": "markdown",
   "metadata": {},
   "source": [
    "# `TAB` completion\n",
    "\n",
    "ITypescript provides a completion list for both Typescript keywords and object\n",
    "properties. This completion list is shown when `TAB` is pressed.\n",
    "\n",
    "It can be used to complete object properties accessed using the dot operator(`.`) or the bracket operator (`[]`).\n",
    "\n",
    "**Note**: For exact matching, the cell should be run at least once. Otherwise, some properties are not appear, because typescript did not transpiled into javascript yet."
   ]
  },
  {
   "cell_type": "code",
   "execution_count": 5,
   "metadata": {
    "collapsed": false
   },
   "outputs": [
    {
     "data": {
      "text/plain": [
       "'use strict'"
      ]
     },
     "execution_count": 5,
     "metadata": {},
     "output_type": "execute_result"
    }
   ],
   "source": [
    "class Surface{\n",
    "    texture: string;\n",
    "}\n",
    "\n",
    "let x = new Surface();"
   ]
  },
  {
   "cell_type": "code",
   "execution_count": null,
   "metadata": {
    "collapsed": true
   },
   "outputs": [],
   "source": [
    "// Press tab here to see which keywords are appear:\n",
    "new \n",
    "// Now press tab here:\n",
    "x."
   ]
  },
  {
   "cell_type": "code",
   "execution_count": 6,
   "metadata": {
    "collapsed": false
   },
   "outputs": [
    {
     "data": {
      "text/plain": [
       "'use strict'"
      ]
     },
     "execution_count": 6,
     "metadata": {},
     "output_type": "execute_result"
    }
   ],
   "source": [
    "// For the bracket, we need an object.\n",
    "let object = {\n",
    "    name: \"me\",\n",
    "    age: 1\n",
    "};"
   ]
  },
  {
   "cell_type": "code",
   "execution_count": null,
   "metadata": {
    "collapsed": true
   },
   "outputs": [],
   "source": [
    "// Now press tab here:\n",
    "object[\""
   ]
  },
  {
   "cell_type": "markdown",
   "metadata": {},
   "source": [
    "# `Shift-TAB` object inspection\n",
    "\n",
    "ITypescript has the capability of inspection the value of an object or its\n",
    "documentation if available.\n",
    "\n",
    "To show the content of a variable, move the cursor to the end of that variable\n",
    "and press `Shift-TAB`.\n",
    "\n",
    "When available, ITypescript will show the associated documentation instead."
   ]
  },
  {
   "cell_type": "code",
   "execution_count": null,
   "metadata": {
    "collapsed": true
   },
   "outputs": [],
   "source": [
    "// Press shift-tab here\n",
    "x\n",
    "// Again, here:\n",
    "object"
   ]
  }
 ],
 "metadata": {
  "kernelspec": {
   "display_name": "Typescript 2.0",
   "language": "typescript",
   "name": "typescript"
  },
  "language_info": {
   "file_extension": ".ts",
   "mimetype": "text/x-typescript",
   "name": "typescript",
   "version": "2.0.10"
  }
 },
 "nbformat": 4,
 "nbformat_minor": 0
}
